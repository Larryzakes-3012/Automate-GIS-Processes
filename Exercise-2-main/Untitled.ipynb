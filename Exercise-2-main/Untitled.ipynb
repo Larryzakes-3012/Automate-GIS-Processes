{
 "cells": [
  {
   "cell_type": "code",
   "execution_count": null,
   "id": "eda24ece-390e-4ca3-a186-b2c344aa8b5f",
   "metadata": {},
   "outputs": [],
   "source": [
    "import shapely.geometry\n",
    "polygon = shapely.geometry.Polygon(\n",
    "    [\n",
    "        (24.9510, 60.1690),\n",
    "        (24.9510, 60.1698),\n",
    "        (24.9536, 60.1698),\n",
    "        (24.9536, 60.1690)\n",
    "    ]\n",
    ")\n",
    "name = \"Senaatintori\"\n",
    "\n",
    "new_geodataframe.loc[\n",
    "    len(new_geodataframe),  # in which row,\n",
    "    [\"name\", \"geometry\"]    # in which columns to save values\n",
    "] = [name, polygon]\n"
   ]
  }
 ],
 "metadata": {
  "kernelspec": {
   "display_name": "Python 3 (ipykernel)",
   "language": "python",
   "name": "python3"
  },
  "language_info": {
   "codemirror_mode": {
    "name": "ipython",
    "version": 3
   },
   "file_extension": ".py",
   "mimetype": "text/x-python",
   "name": "python",
   "nbconvert_exporter": "python",
   "pygments_lexer": "ipython3",
   "version": "3.10.8"
  }
 },
 "nbformat": 4,
 "nbformat_minor": 5
}
